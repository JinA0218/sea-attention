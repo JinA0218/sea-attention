{
 "cells": [
  {
   "cell_type": "code",
   "execution_count": 11,
   "metadata": {},
   "outputs": [],
   "source": [
    "import h5py\n",
    "import torch\n",
    "import os\n",
    "\n",
    "os.makedirs(f'./debug/colsel2/', exist_ok=True)\n",
    "inputs = torch.arange(120).view(2,3,4,5)\n",
    "with h5py.File('./debug/colsel2/test.hdf5','w') as f:\n",
    "    \n",
    "    d = {'a': torch.randn(2), 'b': torch.randn(3), 'c': (1,2,3,4)}\n",
    "    for k, v in d.items():\n",
    "        f.create_dataset(k, data=v)\n"
   ]
  },
  {
   "cell_type": "code",
   "execution_count": 12,
   "metadata": {},
   "outputs": [
    {
     "name": "stdout",
     "output_type": "stream",
     "text": [
      "tensor([0.2787, 2.7881])\n",
      "tensor([1.2075, 3.1727, 1.3177])\n",
      "tensor([1, 2, 3, 4])\n"
     ]
    }
   ],
   "source": [
    "with h5py.File('./debug/colsel2/test.hdf5', 'r') as f:\n",
    "    for k in f.keys():\n",
    "        dset = f[k]\n",
    "        print(torch.tensor(dset))\n"
   ]
  }
 ],
 "metadata": {
  "kernelspec": {
   "display_name": "torch1",
   "language": "python",
   "name": "python3"
  },
  "language_info": {
   "codemirror_mode": {
    "name": "ipython",
    "version": 3
   },
   "file_extension": ".py",
   "mimetype": "text/x-python",
   "name": "python",
   "nbconvert_exporter": "python",
   "pygments_lexer": "ipython3",
   "version": "3.9.16"
  },
  "orig_nbformat": 4
 },
 "nbformat": 4,
 "nbformat_minor": 2
}
